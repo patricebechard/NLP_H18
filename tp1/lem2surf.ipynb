{
 "cells": [
  {
   "cell_type": "markdown",
   "metadata": {
    "colab_type": "text",
    "id": "JFLQSGkWJyUu"
   },
   "source": [
    "# TP1 - Séquence de lemmes vers formes de surface\n",
    "\n",
    "### IFT6285 - Traitement automatique des langues naturelles\n",
    "\n",
    "### Patrice Béchard (20019173)\n",
    "\n",
    "\n",
    "The full report on this project and the data is available on [Github](https://github.com/patricebechard/NLP_H18/tree/master/tp1).\n",
    "\n",
    "--------------------"
   ]
  },
  {
   "cell_type": "markdown",
   "metadata": {
    "colab_type": "text",
    "id": "3XkbFwX7JyUv"
   },
   "source": [
    "Directories where the data is stored"
   ]
  },
  {
   "cell_type": "code",
   "execution_count": 1,
   "metadata": {
    "colab": {
     "autoexec": {
      "startup": false,
      "wait_interval": 0
     }
    },
    "colab_type": "code",
    "id": "5aK4YTueJyUx"
   },
   "outputs": [],
   "source": [
    "TRAINDIR = '/wikipedia_data/train/'\n",
    "DEVDIR = '/wikipedia_data/dev/'\n",
    "TESTDIR = '/wikipedia_data/test/'\n",
    "\n",
    "SAVEDIR = './'"
   ]
  },
  {
   "cell_type": "markdown",
   "metadata": {
    "colab_type": "text",
    "id": "D9m971hvJyU1"
   },
   "source": [
    "### Creating reference dictionaries, lookup tables and corpus"
   ]
  },
  {
   "cell_type": "markdown",
   "metadata": {},
   "source": [
    "##### Importing modules"
   ]
  },
  {
   "cell_type": "code",
   "execution_count": 180,
   "metadata": {
    "colab": {
     "autoexec": {
      "startup": false,
      "wait_interval": 0
     }
    },
    "colab_type": "code",
    "id": "7VbtguDpJyU1"
   },
   "outputs": [],
   "source": [
    "import os\n",
    "import json\n",
    "import gzip\n",
    "import pickle\n",
    "import sys\n",
    "import time\n",
    "import numpy as np\n",
    "import matplotlib.pyplot as plt\n",
    "from __future__ import print_function, division"
   ]
  },
  {
   "cell_type": "markdown",
   "metadata": {
    "colab_type": "text",
    "id": "VrfqtDwaJyU5"
   },
   "source": [
    "##### Reference dic that maps lemmatized to all of its surface forms"
   ]
  },
  {
   "cell_type": "code",
   "execution_count": 4,
   "metadata": {
    "colab": {
     "autoexec": {
      "startup": false,
      "wait_interval": 0
     }
    },
    "colab_type": "code",
    "id": "gSQDktsoJyU5"
   },
   "outputs": [],
   "source": [
    "lem2og = {}"
   ]
  },
  {
   "cell_type": "code",
   "execution_count": 5,
   "metadata": {
    "colab": {
     "autoexec": {
      "startup": false,
      "wait_interval": 0
     }
    },
    "colab_type": "code",
    "id": "IQRpKkB5JyU7"
   },
   "outputs": [],
   "source": [
    "def loop_over_files(dir):\n",
    "\n",
    "    for f in os.listdir(dir):\n",
    "        #looping over all files in the directory\n",
    "\n",
    "        if f == '.DS_Store':\n",
    "            #file in every directory in MacOS. We skip it here.\n",
    "            continue\n",
    "        \n",
    "        filename = dir + f\n",
    "        with gzip.open(filename, 'rb') as g:\n",
    "            for line in g:\n",
    "                line = line.strip().split()\n",
    "                if len(line) == 2:\n",
    "                    store_in_dic(line)"
   ]
  },
  {
   "cell_type": "code",
   "execution_count": 6,
   "metadata": {
    "colab": {
     "autoexec": {
      "startup": false,
      "wait_interval": 0
     }
    },
    "colab_type": "code",
    "id": "X5JlWih6JyU_"
   },
   "outputs": [],
   "source": [
    "def store_in_dic(line):\n",
    "\n",
    "    lemmatized = line[1].decode('latin1')\n",
    "    original = line[0].decode('latin1')\n",
    "\n",
    "    if lemmatized not in lem2og:\n",
    "        lem2og[lemmatized] = {}\n",
    "\n",
    "    if original not in lem2og[lemmatized]:\n",
    "        lem2og[lemmatized][original] = 1\n",
    "    else:\n",
    "        lem2og[lemmatized][original] += 1"
   ]
  },
  {
   "cell_type": "code",
   "execution_count": 7,
   "metadata": {
    "colab": {
     "autoexec": {
      "startup": false,
      "wait_interval": 0
     }
    },
    "colab_type": "code",
    "id": "MXtHetOPJyVB"
   },
   "outputs": [],
   "source": [
    "loop_over_files(TRAINDIR)\n",
    "\n",
    "with open(SAVEDIR + 'lem2og_train.json', 'w') as fp:\n",
    "    json.dump(lem2og, fp)"
   ]
  },
  {
   "cell_type": "code",
   "execution_count": 12,
   "metadata": {
    "colab": {
     "autoexec": {
      "startup": false,
      "wait_interval": 0
     }
    },
    "colab_type": "code",
    "id": "cThFXPygJyVH"
   },
   "outputs": [],
   "source": [
    "loop_over_files(DEVDIR)\n",
    "\n",
    "with open(SAVEDIR + 'lem2og_traindev.json', 'w') as fp:\n",
    "    json.dump(lem2og, fp)"
   ]
  },
  {
   "cell_type": "markdown",
   "metadata": {
    "colab_type": "text",
    "id": "ak0qEJVzJyVM"
   },
   "source": [
    "##### Lookup tables from int to word and vice versa for lemmatized and surface forms"
   ]
  },
  {
   "cell_type": "code",
   "execution_count": 57,
   "metadata": {
    "colab": {
     "autoexec": {
      "startup": false,
      "wait_interval": 0
     }
    },
    "colab_type": "code",
    "id": "I1FtOpIPJyVO"
   },
   "outputs": [],
   "source": [
    "word2ix_lem = {\"UNK\": 0}\n",
    "ix2word_lem = {\"0\": \"UNK\"}\n",
    "\n",
    "word2ix_og = {\"UNK\": 0}\n",
    "ix2word_og = {\"0\": \"UNK\"}"
   ]
  },
  {
   "cell_type": "code",
   "execution_count": 58,
   "metadata": {
    "colab": {
     "autoexec": {
      "startup": false,
      "wait_interval": 0
     }
    },
    "colab_type": "code",
    "id": "FTvtsYQ9JyVS"
   },
   "outputs": [],
   "source": [
    "with open(SAVEDIR + 'lem2og_train.json') as json_data:\n",
    "    lem2og = json.load(json_data)"
   ]
  },
  {
   "cell_type": "code",
   "execution_count": 59,
   "metadata": {
    "colab": {
     "autoexec": {
      "startup": false,
      "wait_interval": 0
     }
    },
    "colab_type": "code",
    "id": "KwN2_VDYJyVU"
   },
   "outputs": [],
   "source": [
    "def create_word2ix_ix2word_dic(reference_dic):\n",
    "    \n",
    "    ix_lem = 1\n",
    "    ix_og = 1\n",
    "    for lem_word in reference_dic:\n",
    "        \n",
    "        word2ix_lem[lem_word] = ix_lem\n",
    "        ix2word_lem[ix_lem] = lem_word\n",
    "        ix_lem += 1\n",
    "        \n",
    "        for og_word in reference_dic[lem_word]:\n",
    "            word2ix_og[og_word] = ix_og\n",
    "            ix2word_og[ix_og] = og_word\n",
    "            ix_og += 1\n",
    "            \n",
    "    "
   ]
  },
  {
   "cell_type": "code",
   "execution_count": 60,
   "metadata": {
    "colab": {
     "autoexec": {
      "startup": false,
      "wait_interval": 0
     }
    },
    "colab_type": "code",
    "id": "kng-lhakJyVX"
   },
   "outputs": [],
   "source": [
    "create_word2ix_ix2word_dic(lem2og)\n",
    "\n",
    "with open(SAVEDIR + 'word2ix_lem.json', 'w') as fp:\n",
    "    json.dump(word2ix_lem, fp)\n",
    "    \n",
    "with open(SAVEDIR + 'ix2word_lem.json', 'w') as fp:\n",
    "    json.dump(ix2word_lem, fp)\n",
    "\n",
    "with open(SAVEDIR + 'word2ix_og.json', 'w') as fp:\n",
    "    json.dump(word2ix_og, fp)\n",
    "\n",
    "with open(SAVEDIR + 'ix2word_og.json', 'w') as fp:\n",
    "    json.dump(ix2word_og, fp)"
   ]
  },
  {
   "cell_type": "markdown",
   "metadata": {
    "colab_type": "text",
    "id": "7CV8OL4xJyVa"
   },
   "source": [
    "##### Corpuses consisting of a list of dictionaries containing the lemmatized form and its associated surface form. Represented as list of ints (from lookup tables)"
   ]
  },
  {
   "cell_type": "code",
   "execution_count": 91,
   "metadata": {
    "colab": {
     "autoexec": {
      "startup": false,
      "wait_interval": 0
     }
    },
    "colab_type": "code",
    "id": "aAR2OrQGJyVh"
   },
   "outputs": [],
   "source": [
    "def create_corpus(dir, name='train', max_n_slices=50):\n",
    "    \n",
    "    corpus = []\n",
    "    \n",
    "    n_slices = 0\n",
    "    n_docs = 0\n",
    "    \n",
    "    for f in os.listdir(dir):\n",
    "        \n",
    "        if not name == 'test':\n",
    "            #the test set is all in the same file, others are split in groups of 50 slices\n",
    "\n",
    "            if n_slices >= max_n_slices:\n",
    "                save_corpus(corpus, n_docs, name)\n",
    "                corpus = []\n",
    "                n_docs += 1\n",
    "                n_slices = 0\n",
    "            else:\n",
    "                n_slices += 1\n",
    "        \n",
    "        if f == '.DS_Store':\n",
    "            # unwanted mac os file\n",
    "            continue\n",
    "        \n",
    "        filepath = dir + f\n",
    "        with gzip.open(filepath, mode='rb') as g:\n",
    "            og_sentence = []\n",
    "            lem_sentence = []\n",
    "            for line in g:\n",
    "                line = line.strip().split()\n",
    "                if len(line) == 2:\n",
    "                    # if not 2 words in line, we don't want it!\n",
    "                    \n",
    "                    lemmatized = line[1].decode('latin1')\n",
    "                    original = line[0].decode('latin1')\n",
    "                    \n",
    "                    if lemmatized not in word2ix_lem:\n",
    "                        #unknown lem word, put as string\n",
    "                        lem_sentence.append(lemmatized)\n",
    "                    else:\n",
    "                        lem_sentence.append(word2ix_lem[lemmatized])\n",
    "                    \n",
    "                    if original not in word2ix_og:\n",
    "                        #unknown og word, put as string\n",
    "                        og_sentence.append(original)\n",
    "                    else:\n",
    "                        og_sentence.append(word2ix_og[original])\n",
    "                    \n",
    "                    if original == '.':\n",
    "                        corpus.append({})\n",
    "                        corpus[-1]['lem'] = lem_sentence\n",
    "                        corpus[-1]['og'] = og_sentence\n",
    "                        lem_sentence = []\n",
    "                        og_sentence = []\n",
    "    \n",
    "    if corpus != []:\n",
    "        save_corpus(corpus, n_docs, name)\n",
    "        corpus = []\n",
    "\n",
    "def save_corpus(corpus, n_docs, name):\n",
    "    \n",
    "    if name == 'test':\n",
    "        corpus_fname = SAVEDIR + name + '.pkl'\n",
    "    else:\n",
    "        corpus_fname = SAVEDIR + name + '_' + str(n_docs) + '.pkl'\n",
    "    with open(corpus_fname, 'wb') as cp:\n",
    "        pickle.dump(corpus, cp)\n",
    "        "
   ]
  },
  {
   "cell_type": "code",
   "execution_count": null,
   "metadata": {
    "colab": {
     "autoexec": {
      "startup": false,
      "wait_interval": 0
     }
    },
    "colab_type": "code",
    "id": "oHR_UvglJyVk"
   },
   "outputs": [],
   "source": [
    "create_corpus(TRAINDIR)"
   ]
  },
  {
   "cell_type": "code",
   "execution_count": null,
   "metadata": {
    "colab": {
     "autoexec": {
      "startup": false,
      "wait_interval": 0
     }
    },
    "colab_type": "code",
    "id": "3d7NXXGNJyVo"
   },
   "outputs": [],
   "source": [
    "create_corpus(DEVDIR, name='dev')"
   ]
  },
  {
   "cell_type": "code",
   "execution_count": 94,
   "metadata": {},
   "outputs": [],
   "source": [
    "create_corpus(TESTDIR, name='test')"
   ]
  },
  {
   "cell_type": "markdown",
   "metadata": {
    "colab_type": "text",
    "id": "1PgVvHTVJyVr"
   },
   "source": [
    "##### Loading reference dictionaries and lookup tables"
   ]
  },
  {
   "cell_type": "code",
   "execution_count": 148,
   "metadata": {
    "colab": {
     "autoexec": {
      "startup": false,
      "wait_interval": 0
     },
     "base_uri": "https://localhost:8080/",
     "height": 54,
     "output_extras": [
      {
       "item_id": 1
      }
     ]
    },
    "colab_type": "code",
    "executionInfo": {
     "elapsed": 28534,
     "status": "ok",
     "timestamp": 1520998299871,
     "user": {
      "displayName": "Patrice Béchard",
      "photoUrl": "//lh3.googleusercontent.com/-bL5zJjq50s8/AAAAAAAAAAI/AAAAAAAAJg4/tTYa0EKiWok/s50-c-k-no/photo.jpg",
      "userId": "107700311785587995610"
     },
     "user_tz": 240
    },
    "id": "6qslD8ycJyVs",
    "outputId": "e2fed305-1aef-4f6c-ec6d-fa19982b7c54"
   },
   "outputs": [],
   "source": [
    "with open(SAVEDIR + 'lem2og_train.json') as fp:\n",
    "    lem2og = json.load(fp)\n",
    "\n",
    "with open(SAVEDIR + 'lem2og_traindev.json') as fp:\n",
    "    lem2og_traindev = json.load(fp)\n",
    "\n",
    "with open(SAVEDIR + 'word2ix_lem.json') as fp:\n",
    "    word2ix_lem = json.load(fp)\n",
    "\n",
    "with open(SAVEDIR + 'ix2word_lem.json') as fp:\n",
    "    ix2word_lem = json.load(fp)\n",
    "    \n",
    "with open(SAVEDIR + 'word2ix_og.json') as fp:\n",
    "    word2ix_og = json.load(fp)\n",
    "    \n",
    "with open(SAVEDIR + 'ix2word_og.json') as fp:\n",
    "    ix2word_og = json.load(fp)\n"
   ]
  },
  {
   "cell_type": "markdown",
   "metadata": {
    "colab_type": "text",
    "id": "XKXyRh1fJyVy"
   },
   "source": [
    "### Benchmark 1"
   ]
  },
  {
   "cell_type": "markdown",
   "metadata": {
    "colab_type": "text",
    "id": "UNMVtDSyJyVz"
   },
   "source": [
    "The first model we look at is a simple benchmark where we assume that the original form of the word is the same as the lemmatized form. We evaluate this model on the various datasets."
   ]
  },
  {
   "cell_type": "code",
   "execution_count": null,
   "metadata": {
    "colab": {
     "autoexec": {
      "startup": false,
      "wait_interval": 0
     }
    },
    "colab_type": "code",
    "id": "9zJb2RiWJyV0"
   },
   "outputs": [],
   "source": [
    "def benchmark1(dir):\n",
    "    \n",
    "    total_n_words = 0\n",
    "    total_n_correct = 0\n",
    "    \n",
    "    for f in os.listdir(dir):\n",
    "        if f == '.DS_Store':\n",
    "            continue\n",
    "        \n",
    "        n_words = 0\n",
    "        n_correct = 0\n",
    "        \n",
    "        fname = dir + f\n",
    "        with gzip.open(fname, 'rb') as g:\n",
    "            \n",
    "            for line in g:\n",
    "                line = line.strip().split()\n",
    "                if len(line) == 2:\n",
    "                    total_n_words += 1\n",
    "                    if line[0] == line[1]:\n",
    "                        total_n_correct += 1\n",
    "    return total_n_correct / total_n_words"
   ]
  },
  {
   "cell_type": "code",
   "execution_count": null,
   "metadata": {
    "colab": {
     "autoexec": {
      "startup": false,
      "wait_interval": 0
     },
     "output_extras": [
      {}
     ]
    },
    "colab_type": "code",
    "id": "hgwC1HKEJyV1",
    "outputId": "fe43ae24-e605-4110-8040-e2177e3ac63f"
   },
   "outputs": [
    {
     "name": "stdout",
     "output_type": "stream",
     "text": [
      "Training accuracy : 65.24\n"
     ]
    }
   ],
   "source": [
    "acc_train = benchmark1(TRAINDIR)\n",
    "print(\"Training accuracy : %.2f\" % (acc_train * 100))"
   ]
  },
  {
   "cell_type": "code",
   "execution_count": null,
   "metadata": {
    "colab": {
     "autoexec": {
      "startup": false,
      "wait_interval": 0
     },
     "output_extras": [
      {}
     ]
    },
    "colab_type": "code",
    "id": "5P0eHtUKJyV5",
    "outputId": "311e6d87-9a1f-41dd-f0df-08e04e21170f"
   },
   "outputs": [
    {
     "name": "stdout",
     "output_type": "stream",
     "text": [
      "Dev accuracy : 64.78\n"
     ]
    }
   ],
   "source": [
    "acc_dev = benchmark1(DEVDIR)\n",
    "print(\"Dev accuracy : %.2f\" % (acc_dev * 100))"
   ]
  },
  {
   "cell_type": "code",
   "execution_count": null,
   "metadata": {
    "colab": {
     "autoexec": {
      "startup": false,
      "wait_interval": 0
     },
     "output_extras": [
      {}
     ]
    },
    "colab_type": "code",
    "id": "ry13WtU9JyV_",
    "outputId": "e383a1c3-28fd-43cf-a43e-db42ff782563"
   },
   "outputs": [
    {
     "name": "stdout",
     "output_type": "stream",
     "text": [
      "Test accuracy : 64.95\n"
     ]
    }
   ],
   "source": [
    "acc_test = benchmark1(TESTDIR)\n",
    "print(\"Test accuracy : %.2f\" % (acc_test * 100))"
   ]
  },
  {
   "cell_type": "markdown",
   "metadata": {
    "colab_type": "text",
    "id": "PDWL2q5JJyWC"
   },
   "source": [
    "### Most-frequent word approach"
   ]
  },
  {
   "cell_type": "markdown",
   "metadata": {
    "colab_type": "text",
    "id": "k4w8EbpIJyWC"
   },
   "source": [
    "The second model we look at is a model inspired by Charniak *et. al.* (1993). The task they worked on was Part-of-Speech tagging and they used a model which return the most probable tag for a given word. In our case, we return the most probable surface form for every lemmatized form of a word. If the lemmatized word is not in the reference dictionary that maps a lemmatized form to all of its surface forms, we return the lemmatized form as the surface form."
   ]
  },
  {
   "cell_type": "code",
   "execution_count": null,
   "metadata": {
    "colab": {
     "autoexec": {
      "startup": false,
      "wait_interval": 0
     }
    },
    "colab_type": "code",
    "id": "XPaFarD4JyWD"
   },
   "outputs": [],
   "source": [
    "def benchmark2(dir):\n",
    "    \n",
    "    total_n_words = 0\n",
    "    total_n_correct = 0\n",
    "\n",
    "    for f in os.listdir(dir):\n",
    "        #looping over all files in the directory\n",
    "        if f == '.DS_Store':\n",
    "            #file in every directory in MacOS. We skip it here.\n",
    "            continue\n",
    "            \n",
    "        fname = dir + f\n",
    "            \n",
    "        with gzip.open(fname, 'rb') as g:\n",
    "\n",
    "            for line in g:\n",
    "                line = line.strip().split()\n",
    "                if len(line) == 2:\n",
    "                    total_n_words += 1\n",
    "\n",
    "                    lemmatized = line[1].decode('latin1')\n",
    "                    original = line[0].decode('latin1')\n",
    "\n",
    "                    if lemmatized in lem2og:\n",
    "                        # word is in the dictionary, we return the most probable form\n",
    "                        word = lem2og[lemmatized]\n",
    "                        choice = max(word, key=word.get)\n",
    "                        if choice == original:\n",
    "                            total_n_correct += 1\n",
    "                    else:\n",
    "                        # word is not in the dictionary, we return same word as the input\n",
    "                        if original == lemmatized:\n",
    "                            total_n_correct += 1\n",
    "\n",
    "    return total_n_correct / total_n_words              \n"
   ]
  },
  {
   "cell_type": "code",
   "execution_count": null,
   "metadata": {
    "colab": {
     "autoexec": {
      "startup": false,
      "wait_interval": 0
     },
     "output_extras": [
      {}
     ]
    },
    "colab_type": "code",
    "id": "qqysoRzZJyWG",
    "outputId": "4934b0a1-0b70-4ab8-f0d6-33b3ada3fa79"
   },
   "outputs": [
    {
     "name": "stdout",
     "output_type": "stream",
     "text": [
      "Training accuracy : 80.67\n"
     ]
    }
   ],
   "source": [
    "acc_train = benchmark2(TRAINDIR)\n",
    "print(\"Training accuracy : %.2f\" % (acc_train * 100))"
   ]
  },
  {
   "cell_type": "code",
   "execution_count": null,
   "metadata": {
    "colab": {
     "autoexec": {
      "startup": false,
      "wait_interval": 0
     },
     "output_extras": [
      {}
     ]
    },
    "colab_type": "code",
    "id": "W83EhwNYJyWJ",
    "outputId": "26cc1ce1-2905-47c7-de93-f6732aba76bd"
   },
   "outputs": [
    {
     "name": "stdout",
     "output_type": "stream",
     "text": [
      "Dev accuracy : 80.72\n"
     ]
    }
   ],
   "source": [
    "acc_dev = benchmark2(DEVDIR)\n",
    "print(\"Dev accuracy : %.2f\" % (acc_dev * 100))"
   ]
  },
  {
   "cell_type": "code",
   "execution_count": null,
   "metadata": {
    "colab": {
     "autoexec": {
      "startup": false,
      "wait_interval": 0
     },
     "output_extras": [
      {}
     ]
    },
    "colab_type": "code",
    "id": "SylZjfzbJyWM",
    "outputId": "6e910ebe-d838-41df-dbb1-42edb07d81e6"
   },
   "outputs": [
    {
     "name": "stdout",
     "output_type": "stream",
     "text": [
      "Test accuracy : 80.13\n"
     ]
    }
   ],
   "source": [
    "acc_test = benchmark2(TESTDIR)\n",
    "print(\"Test accuracy : %.2f\" % (acc_test * 100))"
   ]
  },
  {
   "cell_type": "markdown",
   "metadata": {
    "colab_type": "text",
    "id": "gNUtkHuyJyWR"
   },
   "source": [
    "### Synced Sequence to sequence model"
   ]
  },
  {
   "cell_type": "markdown",
   "metadata": {
    "colab_type": "text",
    "id": "-oPO2SE_JyWS"
   },
   "source": [
    "##### Importing modules"
   ]
  },
  {
   "cell_type": "code",
   "execution_count": 72,
   "metadata": {
    "colab": {
     "autoexec": {
      "startup": false,
      "wait_interval": 0
     }
    },
    "colab_type": "code",
    "id": "Vdpt0kCFJyWU"
   },
   "outputs": [],
   "source": [
    "import torch\n",
    "from torch import nn\n",
    "import torch.nn.functional as F\n",
    "from torch.autograd import Variable\n",
    "from torch import optim\n",
    "\n",
    "import random\n",
    "import pickle\n",
    "\n",
    "use_cuda = torch.cuda.is_available()\n"
   ]
  },
  {
   "cell_type": "markdown",
   "metadata": {
    "colab_type": "text",
    "id": "JScJs_P7JyWW"
   },
   "source": [
    "##### Loading data"
   ]
  },
  {
   "cell_type": "code",
   "execution_count": 95,
   "metadata": {
    "colab": {
     "autoexec": {
      "startup": false,
      "wait_interval": 0
     }
    },
    "colab_type": "code",
    "id": "w8YggDkkJyWX"
   },
   "outputs": [],
   "source": [
    "with open(SAVEDIR + 'train_0.pkl', 'rb') as f:\n",
    "    training_set = pickle.load(f)\n",
    "    \n",
    "with open(SAVEDIR + 'dev_0.pkl', 'rb') as f:\n",
    "    dev_set = pickle.load(f)\n",
    "    \n",
    "with open(SAVEDIR + 'test.pkl', 'rb') as f:\n",
    "    test_set = pickle.load(f)\n"
   ]
  },
  {
   "cell_type": "markdown",
   "metadata": {
    "colab_type": "text",
    "id": "txXMc9KcJyWd"
   },
   "source": [
    "##### Model"
   ]
  },
  {
   "cell_type": "code",
   "execution_count": 97,
   "metadata": {
    "colab": {
     "autoexec": {
      "startup": false,
      "wait_interval": 0
     }
    },
    "colab_type": "code",
    "id": "j-miM6x_JyWe"
   },
   "outputs": [],
   "source": [
    "lem_vocab_size = len(word2ix_lem)\n",
    "og_vocab_size = len(word2ix_og)"
   ]
  },
  {
   "cell_type": "code",
   "execution_count": 98,
   "metadata": {
    "colab": {
     "autoexec": {
      "startup": false,
      "wait_interval": 0
     }
    },
    "colab_type": "code",
    "id": "_kt1uIFmJyWh"
   },
   "outputs": [],
   "source": [
    "class Lem2SurfRNN(nn.Module):\n",
    "\n",
    "    def __init__(self, input_size, hidden_size=16, num_layers=1, batch_size=1, bidirectional=False):\n",
    "        super(Lem2SurfRNN, self).__init__()\n",
    "        \n",
    "        self.input_size = input_size\n",
    "        self.hidden_size = hidden_size\n",
    "        self.num_layers = num_layers\n",
    "        self.batch_size = batch_size\n",
    "        self.bidirectional = bidirectional\n",
    "        \n",
    "        self.word_embeddings = nn.Embedding(input_size, hidden_size)\n",
    "        self.rnn = nn.GRU(input_size=hidden_size, hidden_size=hidden_size, num_layers=num_layers, bidirectional=bidirectional)\n",
    "        \n",
    "        self.hidden = self.init_hidden()\n",
    "\n",
    "    def forward(self, input):\n",
    "        \n",
    "        embeds = self.word_embeddings(input)\n",
    "        output, self.hidden = self.rnn(embeds.view(len(input), 1, -1), self.hidden)\n",
    "        \n",
    "        return output.view(len(input), -1)\n",
    "    \n",
    "    def init_hidden(self):\n",
    "        \n",
    "        if self.bidirectional:\n",
    "            depth = 2 * self.num_layers\n",
    "        else:\n",
    "            depth = self.num_layers\n",
    "        \n",
    "        hidden = Variable(torch.zeros(depth, 1, self.hidden_size))\n",
    "        \n",
    "        if use_cuda:\n",
    "            hidden = hidden.cuda()\n",
    "            \n",
    "        return hidden"
   ]
  },
  {
   "cell_type": "markdown",
   "metadata": {
    "colab_type": "text",
    "id": "qOg-NhosJyWj"
   },
   "source": [
    "##### Functions"
   ]
  },
  {
   "cell_type": "code",
   "execution_count": 185,
   "metadata": {
    "colab": {
     "autoexec": {
      "startup": false,
      "wait_interval": 0
     }
    },
    "colab_type": "code",
    "id": "l0KNRDTMJyWj"
   },
   "outputs": [],
   "source": [
    "def train_model(model, clf_dict, ix2word_clf, n_updates=100000, print_every=100, learning_rate=1e-3, save=False, model_name='model'):\n",
    "    \n",
    "    start_time = time.time()\n",
    "    \n",
    "    if use_cuda:\n",
    "        model = model.cuda()\n",
    "    \n",
    "    best = 0\n",
    "    \n",
    "    criterion = nn.CrossEntropyLoss()\n",
    "    optimizer = optim.Adam(model.parameters(), lr=learning_rate)\n",
    "    \n",
    "    train_acc = []\n",
    "    dev_acc = []\n",
    "    \n",
    "    total, correct = 0, 0\n",
    "    \n",
    "    try:\n",
    "        #we can interrupt the training with a KeyboardInterrupt (ctrl-c)\n",
    "        for update in xrange(n_updates):\n",
    "\n",
    "            # Training the model\n",
    "            model.train()\n",
    "\n",
    "            sentence = random.choice(training_set)\n",
    "            \n",
    "            inputs = sentence['lem']\n",
    "            targets = sentence['og']\n",
    "\n",
    "            inputs = torch.LongTensor(inputs)\n",
    "            targets = torch.LongTensor(targets)\n",
    "\n",
    "            optimizer.zero_grad()\n",
    "            model.hidden = model.init_hidden()\n",
    "\n",
    "            inputs, targets= Variable(inputs), Variable(targets)\n",
    "            if use_cuda:\n",
    "                inputs, targets = inputs.cuda(), targets.cuda()\n",
    "\n",
    "            outputs = model(inputs)\n",
    "\n",
    "            #prediction\n",
    "            loss = 0\n",
    "            total += len(outputs)\n",
    "            predicted_out, loss = predict_output_sequence(inputs, outputs, loss, \n",
    "                                                          clf_dict, targets=targets, criterion=criterion)\n",
    "            \n",
    "            n_corr = predicted_out.eq(targets.data).cpu().sum() \n",
    "            correct += n_corr\n",
    "\n",
    "            if isinstance(loss, int):\n",
    "                continue\n",
    "            loss.backward()\n",
    "            \n",
    "            for key, value in clf_dict.items():\n",
    "                # This is inefficient!\n",
    "                value['optim'].step()\n",
    "            optimizer.step()\n",
    "\n",
    "            if update % print_every == 0:\n",
    "\n",
    "                train_acc.append(100. * correct / total)\n",
    "\n",
    "                # Evaluating the model on the dev set\n",
    "                model.eval()\n",
    "                total, correct = evaluate_model(model, clf_dict, dev_set)\n",
    "\n",
    "                dev_acc.append(100. * correct / total)\n",
    "\n",
    "                if save and (dev_acc[-1] > best):\n",
    "                    best = dev_acc[-1]\n",
    "                    torch.save(model.state_dict(), model_name + '.pt')\n",
    "                    \n",
    "                    if update > 1000:\n",
    "                        total, correct = evaluate_model(model, clf_dict, test_set, n_iter=1000, test=True)\n",
    "                        print(\"Test set accuracy : %05.2f\" % (100. * correct / total))\n",
    "\n",
    "                print(\"Update %d ----- Training accuracy : %05.2f ----- Dev accuracy : %05.2f\" % (update, train_acc[-1], dev_acc[-1]))\n",
    "                #total, correct = 0, 0\n",
    "    finally:\n",
    "        plot_progress(train_acc, dev_acc, print_every, model_name=model_name)\n",
    "        \n",
    "        stop_time = time.time()\n",
    "        \n",
    "        hours, rem = divmod(stop_time - start_time, 3600)\n",
    "        minutes, seconds = divmod(rem, 60)\n",
    "        print(\"Model was trained during : {:0>2}:{:0>2}:{:05.2f}\".format(int(hours), int(minutes), seconds))\n",
    "\n",
    "    return train_acc, dev_acc"
   ]
  },
  {
   "cell_type": "code",
   "execution_count": 178,
   "metadata": {},
   "outputs": [],
   "source": [
    "def predict_output_sequence(inputs, outputs, loss, clf_dict, eval=False, targets=None, criterion=None):\n",
    "    \n",
    "    predicted_out = []\n",
    "\n",
    "    for i in range(len(outputs)):\n",
    "    \n",
    "        #first scheme. if lemmatized word not in vocabulary, return lemmatized as surface\n",
    "        input_word = int(inputs[i])\n",
    "        if input_word == 0:\n",
    "            # UNKNOWN WORD\n",
    "            predicted_out.append(input_word)\n",
    "            continue\n",
    "\n",
    "        input_word = ix2word_lem[str(int(inputs[i]))]\n",
    "        tmp = lem2og[input_word]\n",
    "        #second scheme. when only one mapping, map directly to it        \n",
    "        if len(tmp) == 1:\n",
    "            pred = word2ix_og[tmp.keys()[0]]\n",
    "\n",
    "        #third scheme. custom classifier\n",
    "        elif input_word in clf_dict:\n",
    "            \"\"\"\n",
    "            At training time, we take the target word index and find to which \n",
    "            output neuron it relates. We then compute the loss for the small model.\n",
    "            \n",
    "            For both training and evaluation time, we then find which word does the \n",
    "            output neuron with max value relate to and map it (og index)\n",
    "            \n",
    "            This is easier for gradient descent.\n",
    "            \"\"\"\n",
    "            \n",
    "            custom_clf = clf_dict[input_word]['clf']\n",
    "            if use_cuda:\n",
    "                custom_clf = custom_clf.cuda()\n",
    "            pred_vector = custom_clf(outputs[i]).unsqueeze(0)\n",
    "            \n",
    "            if not eval:\n",
    "                # training time for gradient propagation\n",
    "                target_word = ix2word_og[str(int(targets[i]))]\n",
    "                clf_ix = Variable(torch.LongTensor([ix2word_clf[input_word].index(target_word)]))\n",
    "                if use_cuda:\n",
    "                    clf_ix = clf_ix.cuda()\n",
    "            \n",
    "                loss += criterion(pred_vector, clf_ix)\n",
    "\n",
    "            _, pred_neuron = torch.max(pred_vector, 1)\n",
    "            pred_neuron = int(pred_neuron)\n",
    "\n",
    "            pred = ix2word_clf[input_word][pred_neuron]\n",
    "            pred = word2ix_og[pred]\n",
    "                \n",
    "        #fourth scheme. Return most probable word\n",
    "        else:\n",
    "            possible = lem2og[input_word]\n",
    "            pred = word2ix_og[max(possible, key=possible.get)]\n",
    "\n",
    "        predicted_out.append(pred)\n",
    "    \n",
    "    predicted_out = torch.LongTensor(predicted_out)\n",
    "    if use_cuda:\n",
    "        predicted_out = predicted_out.cuda()\n",
    "\n",
    "    return predicted_out, loss"
   ]
  },
  {
   "cell_type": "code",
   "execution_count": 80,
   "metadata": {},
   "outputs": [],
   "source": [
    "def create_clf_dict(dataset, most_freq, hidden_size=32, learning_rate=1e-3):\n",
    "    \n",
    "    clf_dict = {}\n",
    "    ix2word_clf = {}\n",
    "    \n",
    "    for word in most_freq:\n",
    "        output_size = len(dataset[word])\n",
    "        clf_dict[word] = {}\n",
    "        clf_dict[word][\"clf\"] =  nn.Linear(in_features=hidden_size, out_features=output_size)\n",
    "        clf_dict[word][\"optim\"] = optim.Adam(clf_dict[word][\"clf\"].parameters(), lr=learning_rate)\n",
    "        \n",
    "        ix2word_clf[word] = dataset[word].keys()\n",
    "        \n",
    "    return clf_dict, ix2word_clf"
   ]
  },
  {
   "cell_type": "code",
   "execution_count": 163,
   "metadata": {
    "colab": {
     "autoexec": {
      "startup": false,
      "wait_interval": 0
     }
    },
    "colab_type": "code",
    "id": "bvO2h6iCJyWl"
   },
   "outputs": [],
   "source": [
    "def evaluate_model(model, clf_dict, dataset, n_iter=100, test=False):\n",
    "    \n",
    "    correct = 0\n",
    "    total = 0\n",
    "    \n",
    "    if test:\n",
    "        #loop overt all dataset (else only approximate of accuracy)\n",
    "        n_iter = len(dataset)\n",
    "\n",
    "    for i in range(n_iter):\n",
    "\n",
    "        if test:\n",
    "            sentence = dataset[i]\n",
    "        else:\n",
    "            sentence = random.choice(dataset)\n",
    "            \n",
    "        unknown_words_lem = []\n",
    "        unknown_words_og = []\n",
    "            \n",
    "        for j in range(len(sentence['lem'])):\n",
    "            if type(sentence['lem'][j]) != int:\n",
    "                unknown_words_lem.append(sentence['lem'][j])\n",
    "                sentence['lem'][j] = 0 #mapped as UNK\n",
    "                \n",
    "        for j in range(len(sentence['og'])):\n",
    "            if type(sentence['og'][j]) != int:\n",
    "                unknown_words_og.append(sentence['og'][j])\n",
    "                sentence['og'][j] = 0\n",
    "                \n",
    "        inputs = sentence['lem']\n",
    "        targets = sentence['og']\n",
    "\n",
    "        inputs = torch.LongTensor(inputs)\n",
    "        targets = torch.LongTensor(targets)\n",
    "\n",
    "        model.hidden = model.init_hidden()\n",
    "\n",
    "        inputs, targets= Variable(inputs), Variable(targets)\n",
    "        if use_cuda:\n",
    "            inputs, targets = inputs.cuda(), targets.cuda()\n",
    "\n",
    "        outputs = model(inputs)\n",
    "        \n",
    "        loss = 0\n",
    "        total += len(outputs)   \n",
    "        \n",
    "        predicted_out, _ = predict_output_sequence(inputs, outputs, \n",
    "                                                      loss, clf_dict, eval=True)\n",
    "        \n",
    "        correct += predicted_out.eq(targets.data).cpu().sum() \n",
    "    \n",
    "        if i == 0 and test:\n",
    "            show_translation(inputs, predicted_out, targets, unknown_words_lem, unknown_words_og)\n",
    "        \n",
    "    return total, correct"
   ]
  },
  {
   "cell_type": "code",
   "execution_count": 157,
   "metadata": {},
   "outputs": [],
   "source": [
    "def show_translation(inputs, predicted, targets, unknown_words_lem, unknown_words_og):\n",
    "    \n",
    "    input_str = ''\n",
    "    pred_str = ''\n",
    "    target_str = ''\n",
    "    \n",
    "    in_sentence = list(inputs.data)\n",
    "    pred_sentence = list(predicted)\n",
    "    target_sentence = list(targets.data)\n",
    "    \n",
    "    for i in range(len(inputs)):\n",
    "        \n",
    "        #input sentence\n",
    "        if in_sentence[i] == 0:\n",
    "            unk_word = unknown_words_lem.pop(0)\n",
    "            input_str += unk_word + ' '\n",
    "            pred_str += unk_word + ' '\n",
    "        else:\n",
    "            input_str += ix2word_lem[str(in_sentence[i])] + ' '\n",
    "            pred_str += ix2word_og[str(pred_sentence[i])] + ' '\n",
    "        \n",
    "        if target_sentence[i] == 0:\n",
    "            target_str += unknown_words_og.pop(0)\n",
    "        else:\n",
    "            target_str += ix2word_og[str(target_sentence[i])] + ' '\n",
    "\n",
    "    print(\"Input     : %s\" % input_str)\n",
    "    print(\"Predicted : %s\" % pred_str)\n",
    "    print(\"Target    : %s\" % target_str)\n",
    "    "
   ]
  },
  {
   "cell_type": "code",
   "execution_count": 82,
   "metadata": {},
   "outputs": [],
   "source": [
    "def plot_progress(train_acc, dev_acc, print_every, model_name='model'):\n",
    "    \n",
    "    if len(train_acc) != len(dev_acc):\n",
    "        #last update wasnt saved\n",
    "        train_acc = train_acc[:-1]\n",
    "    \n",
    "    #save progress\n",
    "    np.savetxt(model_name + '_progress.txt', np.array([train_acc, dev_acc]))\n",
    "    \n",
    "    # scale to nb of updates\n",
    "    rng = np.arange(len(train_acc)) * print_every\n",
    "           \n",
    "    plt.plot(rng, np.array(train_acc), label='Training accuracy')\n",
    "    plt.plot(rng, np.array(dev_acc), label='Dev accuracy')\n",
    "    plt.xlabel(\"Number of updates\")\n",
    "    plt.ylabel(\"Accuracy (%)\")\n",
    "    plt.legend(fancybox=True, loc=4)\n",
    "    plt.savefig(model_name + \"_progress.png\")\n",
    "    plt.show()\n",
    "    "
   ]
  },
  {
   "cell_type": "code",
   "execution_count": 83,
   "metadata": {},
   "outputs": [],
   "source": [
    "def keep_n_most_freq_words(dataset, thres=10000):\n",
    "    \n",
    "    n_words = 0\n",
    "    min_occurence = 1e9\n",
    "    \n",
    "    most_frequent_words = {}\n",
    "    \n",
    "    for key, value in dataset.items():\n",
    "        \n",
    "        n_occurence = sum(value.values())\n",
    "        \n",
    "        if n_words < thres:\n",
    "            #add words until max capacity\n",
    "            n_words += 1\n",
    "            most_frequent_words[key] = n_occurence\n",
    "            \n",
    "            if n_occurence < min_occurence:\n",
    "                min_occurence = n_occurence\n",
    "                less_common_word = key\n",
    "        \n",
    "        elif n_occurence > min_occurence:\n",
    "            #max capacity achieved, only keep if n_occurences is big enough\n",
    "            \n",
    "            del most_frequent_words[less_common_word]\n",
    "            most_frequent_words[key] = n_occurence\n",
    "            \n",
    "            less_common_word = min(most_frequent_words, key=most_frequent_words.get)\n",
    "            min_occurence = most_frequent_words[less_common_word]\n",
    "\n",
    "    return most_frequent_words\n",
    "\n",
    "most_freq = keep_n_most_freq_words(lem2og)"
   ]
  },
  {
   "cell_type": "code",
   "execution_count": 187,
   "metadata": {
    "colab": {
     "autoexec": {
      "startup": false,
      "wait_interval": 0
     },
     "base_uri": "https://localhost:8080/",
     "height": 164,
     "output_extras": [
      {
       "item_id": 1
      },
      {
       "item_id": 2
      },
      {
       "item_id": 3
      }
     ]
    },
    "colab_type": "code",
    "executionInfo": {
     "elapsed": 329,
     "status": "error",
     "timestamp": 1521000433637,
     "user": {
      "displayName": "Patrice Béchard",
      "photoUrl": "//lh3.googleusercontent.com/-bL5zJjq50s8/AAAAAAAAAAI/AAAAAAAAJg4/tTYa0EKiWok/s50-c-k-no/photo.jpg",
      "userId": "107700311785587995610"
     },
     "user_tz": 240
    },
    "id": "XcdNnUYTJyWm",
    "outputId": "8dd196f9-cff9-46dc-ea19-9b9bf3fd877f"
   },
   "outputs": [
    {
     "name": "stdout",
     "output_type": "stream",
     "text": [
      "Building the model...\n",
      "Training the model...\n",
      "Update 0 ----- Training accuracy : 49.43 ----- Dev accuracy : 30.65\n",
      "Update 100 ----- Training accuracy : 34.69 ----- Dev accuracy : 49.21\n",
      "Update 200 ----- Training accuracy : 54.31 ----- Dev accuracy : 61.67\n",
      "Update 300 ----- Training accuracy : 63.10 ----- Dev accuracy : 66.72\n",
      "Update 400 ----- Training accuracy : 66.77 ----- Dev accuracy : 68.44\n",
      "Update 500 ----- Training accuracy : 67.84 ----- Dev accuracy : 71.62\n",
      "Update 600 ----- Training accuracy : 70.42 ----- Dev accuracy : 72.27\n",
      "Update 700 ----- Training accuracy : 72.16 ----- Dev accuracy : 75.09\n",
      "Update 800 ----- Training accuracy : 74.18 ----- Dev accuracy : 72.68\n",
      "Update 900 ----- Training accuracy : 72.92 ----- Dev accuracy : 72.97\n",
      "Update 1000 ----- Training accuracy : 72.48 ----- Dev accuracy : 74.11\n",
      "Input     : facemelter be the twelfth studio album by american hard rock/heavy metal band y&t , which be release on may 21 , 2010 through the frontiers records label . \n",
      "Predicted : Facemelter was the twelfth Studio album by American hard rock/heavy metaled band Y&T , which was released on may 21 , 2010 through the Frontiers Records labels . \n",
      "Target    : Facemelter is the twelfth studio album by American hard rock/heavy metal band Y&T , which was released on May 21 , 2010 through the Frontiers Records label . \n",
      "Test set accuracy : 74.16\n",
      "Update 1100 ----- Training accuracy : 73.33 ----- Dev accuracy : 75.14\n",
      "Update 1200 ----- Training accuracy : 74.16 ----- Dev accuracy : 74.80\n"
     ]
    },
    {
     "data": {
      "image/png": "[encoded data removed]",
      "text/plain": [
       "<matplotlib.figure.Figure at 0x7f6d5c7894d0>"
      ]
     },
     "metadata": {},
     "output_type": "display_data"
    },
    {
     "name": "stdout",
     "output_type": "stream",
     "text": [
      "Model was trained during : 00:23:39.15\n"
     ]
    },
    {
     "ename": "KeyboardInterrupt",
     "evalue": "",
     "output_type": "error",
     "traceback": [
      "\u001b[0;31m---------------------------------------------------------------------------\u001b[0m",
      "\u001b[0;31mKeyboardInterrupt\u001b[0m                         Traceback (most recent call last)",
      "\u001b[0;32m<ipython-input-187-9af2dcfa9293>\u001b[0m in \u001b[0;36m<module>\u001b[0;34m()\u001b[0m\n\u001b[1;32m     20\u001b[0m \u001b[0;34m\u001b[0m\u001b[0m\n\u001b[1;32m     21\u001b[0m \u001b[0;32mprint\u001b[0m\u001b[0;34m(\u001b[0m\u001b[0;34m\"Training the model...\"\u001b[0m\u001b[0;34m)\u001b[0m\u001b[0;34m\u001b[0m\u001b[0m\n\u001b[0;32m---> 22\u001b[0;31m \u001b[0mtrain_model\u001b[0m\u001b[0;34m(\u001b[0m\u001b[0mmodel\u001b[0m\u001b[0;34m,\u001b[0m \u001b[0mclf_dict\u001b[0m\u001b[0;34m,\u001b[0m \u001b[0mix2word_clf\u001b[0m\u001b[0;34m,\u001b[0m \u001b[0mlearning_rate\u001b[0m\u001b[0;34m=\u001b[0m\u001b[0mlearning_rate\u001b[0m\u001b[0;34m,\u001b[0m \u001b[0mmodel_name\u001b[0m\u001b[0;34m=\u001b[0m\u001b[0mmodel_name\u001b[0m\u001b[0;34m,\u001b[0m \u001b[0msave\u001b[0m\u001b[0;34m=\u001b[0m\u001b[0mTrue\u001b[0m\u001b[0;34m)\u001b[0m\u001b[0;34m\u001b[0m\u001b[0m\n\u001b[0m",
      "\u001b[0;32m<ipython-input-185-576df6514c0e>\u001b[0m in \u001b[0;36mtrain_model\u001b[0;34m(model, clf_dict, ix2word_clf, n_updates, print_every, learning_rate, save, model_name)\u001b[0m\n\u001b[1;32m     55\u001b[0m             \u001b[0;32mfor\u001b[0m \u001b[0mkey\u001b[0m\u001b[0;34m,\u001b[0m \u001b[0mvalue\u001b[0m \u001b[0;32min\u001b[0m \u001b[0mclf_dict\u001b[0m\u001b[0;34m.\u001b[0m\u001b[0mitems\u001b[0m\u001b[0;34m(\u001b[0m\u001b[0;34m)\u001b[0m\u001b[0;34m:\u001b[0m\u001b[0;34m\u001b[0m\u001b[0m\n\u001b[1;32m     56\u001b[0m                 \u001b[0;31m# This is inefficient!\u001b[0m\u001b[0;34m\u001b[0m\u001b[0;34m\u001b[0m\u001b[0m\n\u001b[0;32m---> 57\u001b[0;31m                 \u001b[0mvalue\u001b[0m\u001b[0;34m[\u001b[0m\u001b[0;34m'optim'\u001b[0m\u001b[0;34m]\u001b[0m\u001b[0;34m.\u001b[0m\u001b[0mstep\u001b[0m\u001b[0;34m(\u001b[0m\u001b[0;34m)\u001b[0m\u001b[0;34m\u001b[0m\u001b[0m\n\u001b[0m\u001b[1;32m     58\u001b[0m             \u001b[0moptimizer\u001b[0m\u001b[0;34m.\u001b[0m\u001b[0mstep\u001b[0m\u001b[0;34m(\u001b[0m\u001b[0;34m)\u001b[0m\u001b[0;34m\u001b[0m\u001b[0m\n\u001b[1;32m     59\u001b[0m \u001b[0;34m\u001b[0m\u001b[0m\n",
      "\u001b[0;32m/usr/local/lib/python2.7/dist-packages/torch/optim/adam.pyc\u001b[0m in \u001b[0;36mstep\u001b[0;34m(self, closure)\u001b[0m\n\u001b[1;32m     67\u001b[0m \u001b[0;34m\u001b[0m\u001b[0m\n\u001b[1;32m     68\u001b[0m                 \u001b[0;31m# Decay the first and second moment running average coefficient\u001b[0m\u001b[0;34m\u001b[0m\u001b[0;34m\u001b[0m\u001b[0m\n\u001b[0;32m---> 69\u001b[0;31m                 \u001b[0mexp_avg\u001b[0m\u001b[0;34m.\u001b[0m\u001b[0mmul_\u001b[0m\u001b[0;34m(\u001b[0m\u001b[0mbeta1\u001b[0m\u001b[0;34m)\u001b[0m\u001b[0;34m.\u001b[0m\u001b[0madd_\u001b[0m\u001b[0;34m(\u001b[0m\u001b[0;36m1\u001b[0m \u001b[0;34m-\u001b[0m \u001b[0mbeta1\u001b[0m\u001b[0;34m,\u001b[0m \u001b[0mgrad\u001b[0m\u001b[0;34m)\u001b[0m\u001b[0;34m\u001b[0m\u001b[0m\n\u001b[0m\u001b[1;32m     70\u001b[0m                 \u001b[0mexp_avg_sq\u001b[0m\u001b[0;34m.\u001b[0m\u001b[0mmul_\u001b[0m\u001b[0;34m(\u001b[0m\u001b[0mbeta2\u001b[0m\u001b[0;34m)\u001b[0m\u001b[0;34m.\u001b[0m\u001b[0maddcmul_\u001b[0m\u001b[0;34m(\u001b[0m\u001b[0;36m1\u001b[0m \u001b[0;34m-\u001b[0m \u001b[0mbeta2\u001b[0m\u001b[0;34m,\u001b[0m \u001b[0mgrad\u001b[0m\u001b[0;34m,\u001b[0m \u001b[0mgrad\u001b[0m\u001b[0;34m)\u001b[0m\u001b[0;34m\u001b[0m\u001b[0m\n\u001b[1;32m     71\u001b[0m \u001b[0;34m\u001b[0m\u001b[0m\n",
      "\u001b[0;31mKeyboardInterrupt\u001b[0m: "
     ]
    }
   ],
   "source": [
    "hidden_size = 32\n",
    "n_layers = 1\n",
    "bidirectional = True\n",
    "learning_rate=1e-4\n",
    "if bidirectional:\n",
    "    model_name = SAVEDIR + \"mdl_%d_%d_bi\" % (hidden_size, n_layers)\n",
    "else:\n",
    "    model_name = SAVEDIR + \"mdl_%d_%d\" % (hidden_size, n_layers)\n",
    "\n",
    "print(\"Building the model...\")\n",
    "\n",
    "#creating the basic model\n",
    "model = Lem2SurfRNN(input_size=lem_vocab_size, hidden_size=hidden_size, bidirectional=bidirectional)\n",
    "#and the custom classifiers\n",
    "if bidirectional:\n",
    "    out_rnn_size = hidden_size * 2\n",
    "else:\n",
    "    out_rnn_size = hidden_size\n",
    "clf_dict, ix2word_clf = create_clf_dict(lem2og, most_freq, hidden_size=out_rnn_size, learning_rate=learning_rate)\n",
    "\n",
    "print(\"Training the model...\")\n",
    "train_model(model, clf_dict, ix2word_clf, learning_rate=learning_rate, model_name=model_name, save=True)\n"
   ]
  },
  {
   "cell_type": "code",
   "execution_count": null,
   "metadata": {},
   "outputs": [],
   "source": [
    "model.load_state_dict(torch.load('models_data/mdl_32_1_bi_sv.pt'))\n",
    "\n",
    "correct_tr, total_tr = evaluate_model(model, clf_dict, training_set)\n",
    "print(100 * correct_tr / total_tr)\n",
    "evaluate_model(model, clf_dict, test_set, test=True)"
   ]
  },
  {
   "cell_type": "code",
   "execution_count": null,
   "metadata": {},
   "outputs": [],
   "source": [
    "torch.cuda.empty_cache()"
   ]
  },
  {
   "cell_type": "markdown",
   "metadata": {},
   "source": [
    "### Data analysis"
   ]
  },
  {
   "cell_type": "markdown",
   "metadata": {},
   "source": [
    "##### Length of vocabulary"
   ]
  },
  {
   "cell_type": "code",
   "execution_count": 5,
   "metadata": {},
   "outputs": [],
   "source": [
    "def length_of_vocab(dataset):\n",
    "    \n",
    "    lem_length = len(dataset)\n",
    "    og_length = 0\n",
    "    \n",
    "    for key, value in dataset.items():\n",
    "        og_length += len(value)\n",
    "        \n",
    "    print(\"Number of unique lemmatized words : %d \" % lem_length)\n",
    "    print(\"Number of unique original words : %d \" % og_length)"
   ]
  },
  {
   "cell_type": "code",
   "execution_count": 6,
   "metadata": {},
   "outputs": [
    {
     "name": "stdout",
     "output_type": "stream",
     "text": [
      "Number of unique lemmatized words : 3618127 \n",
      "Number of unique original words : 4154606 \n"
     ]
    }
   ],
   "source": [
    "length_of_vocab(lem2og)"
   ]
  },
  {
   "cell_type": "code",
   "execution_count": 7,
   "metadata": {},
   "outputs": [
    {
     "name": "stdout",
     "output_type": "stream",
     "text": [
      "Number of unique lemmatized words : 4296129 \n",
      "Number of unique original words : 4928238 \n"
     ]
    }
   ],
   "source": [
    "length_of_vocab(lem2og_traindev)"
   ]
  },
  {
   "cell_type": "markdown",
   "metadata": {},
   "source": [
    "##### Number of mappings per words"
   ]
  },
  {
   "cell_type": "code",
   "execution_count": 8,
   "metadata": {},
   "outputs": [],
   "source": [
    "def n_multiple_words(dataset):\n",
    "    \n",
    "    n_of_multiple_words = np.zeros(100)\n",
    "    for key, value in dataset.items():\n",
    "\n",
    "        n_of_multiple_words[len(value)] += 1\n",
    "\n",
    "    return n_of_multiple_words"
   ]
  },
  {
   "cell_type": "code",
   "execution_count": 9,
   "metadata": {},
   "outputs": [
    {
     "name": "stdout",
     "output_type": "stream",
     "text": [
      "Fraction of dataset with only one possible mapping : 0.9020\n"
     ]
    }
   ],
   "source": [
    "word_freq = n_multiple_words(lem2og)\n",
    "unique_freq = word_freq[1] / np.sum(word_freq)\n",
    "print(\"Fraction of dataset with only one possible mapping : %.4f\" % unique_freq)"
   ]
  },
  {
   "cell_type": "code",
   "execution_count": 14,
   "metadata": {},
   "outputs": [
    {
     "data": {
      "image/png": "[encoded data removed]",
      "text/plain": [
       "<matplotlib.figure.Figure at 0x7f71602ddf90>"
      ]
     },
     "metadata": {},
     "output_type": "display_data"
    }
   ],
   "source": [
    "word_freq = np.trim_zeros(word_freq)\n",
    "\n",
    "plt.clf()\n",
    "plt.bar(np.arange(len(word_freq)) + 1, word_freq)\n",
    "plt.yscale('log', nonposy='clip')\n",
    "plt.xlabel(\"Number of possible translations\")\n",
    "plt.ylabel(\"Number of lemmatized words\")\n",
    "plt.savefig('word_freq.png')\n",
    "plt.show()"
   ]
  },
  {
   "cell_type": "markdown",
   "metadata": {},
   "source": [
    "##### Frequency of words in corpus"
   ]
  },
  {
   "cell_type": "code",
   "execution_count": 11,
   "metadata": {},
   "outputs": [],
   "source": [
    "def frequency_of_words_in_corpus(dataset):\n",
    "    \n",
    "    lemmas_freq = []\n",
    "    \n",
    "    for key, value in dataset.items():\n",
    "\n",
    "        n_times = sum(value.values())\n",
    "        lemmas_freq.append(n_times)\n",
    "\n",
    "    return np.array(lemmas_freq)"
   ]
  },
  {
   "cell_type": "code",
   "execution_count": 12,
   "metadata": {},
   "outputs": [],
   "source": [
    "lemmas_freq = frequency_of_words_in_corpus(lem2og)"
   ]
  },
  {
   "cell_type": "code",
   "execution_count": 13,
   "metadata": {},
   "outputs": [
    {
     "data": {
      "image/png": "[encoded data removed]",
      "text/plain": [
       "<matplotlib.figure.Figure at 0x7f6f6788d710>"
      ]
     },
     "metadata": {},
     "output_type": "display_data"
    }
   ],
   "source": [
    "max_freq = max(lemmas_freq)\n",
    "\n",
    "\n",
    "plt.clf()\n",
    "plt.hist(lemmas_freq, bins=np.logspace(0, np.log10(max_freq), 30))\n",
    "plt.xscale(\"log\")\n",
    "plt.yscale(\"log\", nonposy='clip')\n",
    "plt.xlabel(\"Number of occurences\")\n",
    "plt.ylabel(\"Number of lemmatized words\")\n",
    "plt.savefig('occurence.png')\n",
    "plt.show()"
   ]
  },
  {
   "cell_type": "code",
   "execution_count": 15,
   "metadata": {},
   "outputs": [],
   "source": [
    "def count_n_most_frequent_words(lemmas_freq, thres):\n",
    "    total_number_of_words = np.sum(lemmas_freq)\n",
    "\n",
    "    n_accumulated = 0\n",
    "    frac = 0\n",
    "    n_words = 0\n",
    "    lem_freq_sorted = sorted(lemmas_freq)\n",
    "\n",
    "    while frac < thres:\n",
    "\n",
    "        n_words += 1\n",
    "        n_accumulated += lem_freq_sorted[-n_words]\n",
    "        frac = n_accumulated / total_number_of_words\n",
    "\n",
    "    return n_words   \n"
   ]
  },
  {
   "cell_type": "code",
   "execution_count": 16,
   "metadata": {},
   "outputs": [
    {
     "name": "stdout",
     "output_type": "stream",
     "text": [
      " The 8553 most frequent words correspond to 0.90% of the dataset\n"
     ]
    }
   ],
   "source": [
    "thres = 0.9\n",
    "print(\" The %d most frequent words correspond to %.2f%% of the dataset\" % \n",
    "      (count_n_most_frequent_words(lemmas_freq, thres), thres))\n"
   ]
  },
  {
   "cell_type": "code",
   "execution_count": 17,
   "metadata": {},
   "outputs": [
    {
     "name": "stdout",
     "output_type": "stream",
     "text": [
      " The 31582 most frequent words correspond to 0.95% of the dataset\n"
     ]
    }
   ],
   "source": [
    "thres = 0.95\n",
    "print(\" The %d most frequent words correspond to %.2f%% of the dataset\" % \n",
    "      (count_n_most_frequent_words(lemmas_freq, thres), thres))\n"
   ]
  },
  {
   "cell_type": "code",
   "execution_count": null,
   "metadata": {},
   "outputs": [],
   "source": []
  }
 ],
 "metadata": {
  "accelerator": "GPU",
  "colab": {
   "collapsed_sections": [],
   "default_view": {},
   "name": "tp1_taln.ipynb",
   "provenance": [],
   "toc_visible": true,
   "version": "0.3.2",
   "views": {}
  },
  "kernelspec": {
   "display_name": "Python 2",
   "language": "python",
   "name": "python2"
  },
  "language_info": {
   "codemirror_mode": {
    "name": "ipython",
    "version": 2
   },
   "file_extension": ".py",
   "mimetype": "text/x-python",
   "name": "python",
   "nbconvert_exporter": "python",
   "pygments_lexer": "ipython2",
   "version": "2.7.12"
  }
 },
 "nbformat": 4,
 "nbformat_minor": 2
}
